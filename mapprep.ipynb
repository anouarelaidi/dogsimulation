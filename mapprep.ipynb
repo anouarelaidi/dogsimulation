{
 "metadata": {
  "language_info": {
   "codemirror_mode": {
    "name": "ipython",
    "version": 3
   },
   "file_extension": ".py",
   "mimetype": "text/x-python",
   "name": "python",
   "nbconvert_exporter": "python",
   "pygments_lexer": "ipython3",
   "version": "3.9.2"
  },
  "orig_nbformat": 2,
  "kernelspec": {
   "name": "python392jvsc74a57bd069ad906a74fb91c9750d578d4c12922d273a1de9bc07dd372d474b8473b9da5d",
   "display_name": "Python 3.9.2 64-bit"
  }
 },
 "nbformat": 4,
 "nbformat_minor": 2,
 "cells": [
  {
   "cell_type": "code",
   "execution_count": null,
   "metadata": {},
   "outputs": [],
   "source": [
    "import pandas as pd"
   ]
  },
  {
   "cell_type": "code",
   "execution_count": null,
   "metadata": {},
   "outputs": [],
   "source": [
    "# Cell Dimension: 633, 1149\n",
    "\n",
    "# importing the map and droping the last empty column\n",
    "df = pd.read_csv('maps/RDCmod3.txt', header=None)\n",
    "df = df.drop(columns=[633])\n",
    "\n",
    "# droping columns and rows with 0\n",
    "df = df.loc[:, (df != 0).any(axis=0)]\n",
    "df = df.loc[(df!=0).any(axis=1)]\n",
    "\n",
    "# reverse the order of the DataFrame, to match the reality\n",
    "df = df.iloc[::-1]\n",
    "df.reset_index(inplace=True, drop=True)\n",
    "\n",
    "#normalizing the dataframe\n",
    "df_norm = -df.copy()\n",
    "for column in df_norm.columns:\n",
    "    df_norm[column] = df_norm[column] / df_norm[column].abs().max()\n",
    "    \n",
    "#Rounding the dataframe\n",
    "\n",
    "#tester en gardant le vide dans la carte, soulage le simulateur ?\n",
    "df_rounded = df_norm.round(0).astype(int)\n",
    "df_rounded = df_rounded + 1\n",
    "df_rounded.replace(2,1, inplace=True)\n",
    "\n",
    "#Exporting the final map\n",
    "df_rounded.to_csv(\"maps/mapnorm.csv\",sep=';', header=False, index=False)"
   ]
  },
  {
   "source": [
    "### Test en enlevant les murs derrière les murs"
   ],
   "cell_type": "markdown",
   "metadata": {}
  },
  {
   "cell_type": "code",
   "execution_count": null,
   "metadata": {},
   "outputs": [],
   "source": [
    "dftest = pd.read_csv(\"maps/mapnorm.csv\",sep=';', header=None)\n",
    "dftest2 = dftest.copy()"
   ]
  },
  {
   "cell_type": "code",
   "execution_count": null,
   "metadata": {},
   "outputs": [],
   "source": [
    "print(id(dftest))\n",
    "print(id(dftest2))"
   ]
  },
  {
   "cell_type": "code",
   "execution_count": null,
   "metadata": {},
   "outputs": [],
   "source": [
    "for y in range(len(dftest)):\n",
    "    for x in range(len(dftest.iloc[y])):\n",
    "        if not y==0 and not x==0 and not y==681 and not x==252:\n",
    "            if(dftest.iloc[y-1][x] == 1 and dftest.iloc[y+1][x] == 1 and dftest.iloc[y][x-1] == 1 and dftest.iloc[y][x+1] == 1):\n",
    "                dftest2.iloc[y][x] = 0\n",
    "        else:\n",
    "            dftest2.iloc[y][x] = 0"
   ]
  },
  {
   "cell_type": "code",
   "execution_count": null,
   "metadata": {},
   "outputs": [],
   "source": [
    "dftest2.to_csv(\"maps/mapnorm1.csv\",sep=';', header=False, index=False)"
   ]
  },
  {
   "source": [
    "### Test avec 2D Convolution"
   ],
   "cell_type": "markdown",
   "metadata": {}
  },
  {
   "cell_type": "code",
   "execution_count": null,
   "metadata": {},
   "outputs": [],
   "source": [
    "from scipy.signal import convolve2d\n",
    "import numpy as np\n",
    "\n",
    "a = df_rounded.values\n",
    "print(a)\n",
    "print(a.shape)\n",
    "\n",
    "\n",
    "#on divise la taille de la carte par n\n",
    "n = 2\n",
    "kernel = np.ones((n, n))\n",
    "convolved = convolve2d(a, kernel, mode='valid')\n",
    "a_downsampled = convolved[::n, ::n] / n**2\n",
    "\n",
    "print(a_downsampled)\n",
    "print(a_downsampled.shape)\n",
    "\n",
    "df_down = pd.DataFrame(a_downsampled)\n",
    "df_down = df_down.round(0).astype(int)\n",
    "df_down.to_csv(\"maps/mapdown.csv\",sep=';', header=False, index=False)"
   ]
  }
 ]
}