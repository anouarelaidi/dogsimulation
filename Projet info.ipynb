{
 "cells": [
  {
   "cell_type": "code",
   "execution_count": null,
   "id": "legendary-tactics",
   "metadata": {},
   "outputs": [],
   "source": [
    "%load_ext autoreload\n",
    "%autoreload 2\n",
    "\n",
    "import pandas as pd\n",
    "import matplotlib.pyplot as plt\n",
    "from matplotlib import animation\n",
    "\n",
    "# importe le simulateur depuis simulateur.py\n",
    "from simulateur import *\n",
    "\n",
    "# importe l'algorithme RRT*\n",
    "from PythonRobotics.PathPlanning.RRTStar.rrt_star import RRTStar\n",
    "\n",
    "from helpers import *"
   ]
  },
  {
   "cell_type": "markdown",
   "id": "possible-shooting",
   "metadata": {},
   "source": [
    "### Préparer la carte"
   ]
  },
  {
   "cell_type": "code",
   "execution_count": null,
   "id": "authorized-reduction",
   "metadata": {
    "scrolled": true
   },
   "outputs": [],
   "source": [
    "# Cell Dimension: 633, 1149\n",
    "\n",
    "# importing the map and droping the last empty column\n",
    "df = pd.read_csv('maps/RDCmod3.txt', header=None)\n",
    "df = df.drop(columns=[633])\n",
    "\n",
    "# droping columns and rows with 0\n",
    "df = df.loc[:, (df != 0).any(axis=0)]\n",
    "df = df.loc[(df!=0).any(axis=1)]\n",
    "\n",
    "# reverse the order of the DataFrame, to match the reality\n",
    "df = df.iloc[::-1]\n",
    "df.reset_index(inplace=True, drop=True)\n",
    "\n",
    "#normalizing the dataframe\n",
    "df_norm = -df.copy()\n",
    "for column in df_norm.columns:\n",
    "    df_norm[column] = df_norm[column] / df_norm[column].abs().max()\n",
    "    \n",
    "#Rounding the dataframe\n",
    "\n",
    "#tester en gardant le vide dans la carte, soulage le simulateur ?\n",
    "df_rounded = df_norm.round(0).astype(int)\n",
    "df_rounded = df_rounded + 1\n",
    "df_rounded.replace(2,1, inplace=True)\n",
    "\n",
    "#Exporting the final map\n",
    "df_rounded.to_csv(\"maps/mapnorm.csv\",sep=';', header=False, index=False)"
   ]
  },
  {
   "cell_type": "code",
   "execution_count": null,
   "metadata": {},
   "outputs": [],
   "source": [
    "dftest = pd.read_csv(\"maps/mapnorm.csv\",sep=';', header=None)"
   ]
  },
  {
   "cell_type": "code",
   "execution_count": null,
   "metadata": {},
   "outputs": [],
   "source": [
    "dftest2 = dftest.copy()"
   ]
  },
  {
   "cell_type": "code",
   "execution_count": null,
   "metadata": {},
   "outputs": [],
   "source": [
    "dftest2"
   ]
  },
  {
   "source": [
    "for y in range(len(dftest)):\n",
    "    for x in range(len(dftest.iloc[y])):\n",
    "        if not y==0 and not x==0 and not y==681 and not x==252:\n",
    "            if(dftest.iloc[y-1][x] == 1 and dftest.iloc[y+1][x] == 1 and dftest.iloc[y][x-1] == 1 and dftest.iloc[y][x+1] == 1):\n",
    "                dftest2.iloc[y][x] = 0\n",
    "        else:\n",
    "            dftest2.iloc[y][x] = 0"
   ],
   "cell_type": "code",
   "metadata": {},
   "execution_count": null,
   "outputs": []
  },
  {
   "cell_type": "code",
   "execution_count": null,
   "metadata": {},
   "outputs": [],
   "source": [
    "dftest2.to_csv(\"maps/mapnorm1.csv\",sep=';', header=False, index=False)"
   ]
  },
  {
   "cell_type": "markdown",
   "id": "wireless-reading",
   "metadata": {},
   "source": [
    "### Simulation"
   ]
  },
  {
   "cell_type": "code",
   "execution_count": 78,
   "metadata": {},
   "outputs": [],
   "source": [
    "# room = DogRoom(\"maps/map01.csv\")\n",
    "room = DogRoom(\"maps/mapnorm1.csv\")\n",
    "dog = Dog(room, speed=1)"
   ]
  },
  {
   "source": [
    "room.plotmap()"
   ],
   "cell_type": "code",
   "metadata": {},
   "execution_count": null,
   "outputs": []
  },
  {
   "cell_type": "code",
   "execution_count": null,
   "id": "plastic-cattle",
   "metadata": {
    "scrolled": false
   },
   "outputs": [],
   "source": [
    "# Crée les obstacles\n",
    "obstacle = generateObstacle(room, 1.2)"
   ]
  },
  {
   "cell_type": "code",
   "execution_count": 79,
   "id": "saving-walnut",
   "metadata": {},
   "outputs": [],
   "source": [
    "showmap(room = room, dog = dog)"
   ]
  },
  {
   "cell_type": "code",
   "execution_count": null,
   "id": "parallel-occurrence",
   "metadata": {
    "scrolled": true,
    "tags": []
   },
   "outputs": [],
   "source": [
    "%matplotlib\n",
    "\n",
    "#définit la destination\n",
    "goal = [12,5]\n",
    "# goal = [25, 375]\n",
    "\n",
    "#crée le chemin\n",
    "rrt_star = RRTStar(\n",
    "        start=[dog.x, dog.y],\n",
    "        goal=goal,\n",
    "        rand_area=[2, 15],\n",
    "        obstacle_list = obstacle,\n",
    "        goal_sample_rate=1,\n",
    "        expand_dis=5,\n",
    "        max_iter=200,\n",
    "        search_until_max_iter=True)\n",
    "path = rrt_star.planning(animation=False)\n",
    "if path is None:\n",
    "    print(\"Cannot find path\")\n",
    "else:\n",
    "    print(\"found path!!\")\n",
    "# path = generatepath(room, dog, goal, obstacle_list, max_iter=1000, search_until_max_iter=False)\n",
    "showmap(room, dog = dog, goal = goal,  obstacle = obstacle, path=path)\n",
    "#parcourt le chemin\n",
    "# MoveUsingPath(dog, path)"
   ]
  },
  {
   "cell_type": "code",
   "execution_count": 54,
   "metadata": {},
   "outputs": [
    {
     "output_type": "execute_result",
     "data": {
      "text/plain": [
       "[[12, 5],\n",
       " [7.625359146241661, 5.961212906667916],\n",
       " [4.23675724676926, 8.84985011677832],\n",
       " [5.611792232518766, 12.828471985236966],\n",
       " [7.081114786528113, 15.940429935254823],\n",
       " [10, 20]]"
      ]
     },
     "metadata": {},
     "execution_count": 54
    }
   ],
   "source": [
    "path"
   ]
  },
  {
   "cell_type": "code",
   "execution_count": null,
   "metadata": {
    "tags": [
     "outputPrepend"
    ]
   },
   "outputs": [],
   "source": [
    "MoveUsingPath(room, dog, path)"
   ]
  },
  {
   "cell_type": "code",
   "execution_count": null,
   "metadata": {},
   "outputs": [],
   "source": [
    "dog.rotate(90)"
   ]
  },
  {
   "cell_type": "code",
   "execution_count": null,
   "metadata": {},
   "outputs": [],
   "source": [
    "dog.forward(-2)"
   ]
  },
  {
   "cell_type": "code",
   "execution_count": 65,
   "metadata": {},
   "outputs": [],
   "source": [
    "\"\"\"\n",
    "Env 2D\n",
    "@author: huiming zhou\n",
    "\"\"\"\n",
    "\n",
    "\n",
    "class Env:\n",
    "    def __init__(self):\n",
    "        self.x_range = room.largeur  # size of background\n",
    "        self.y_range = room.longueur\n",
    "        self.motions = [(-1, 0), (-1, 1), (0, 1), (1, 1),\n",
    "                        (1, 0), (1, -1), (0, -1), (-1, -1)]\n",
    "        self.obs = self.obs_map()\n",
    "\n",
    "    def update_obs(self, obs):\n",
    "        self.obs = obs\n",
    "\n",
    "    def obs_map(self):\n",
    "        \"\"\"\n",
    "        Initialize obstacles' positions\n",
    "        :return: map of obstacles\n",
    "        \"\"\"\n",
    "\n",
    "        x = self.x_range\n",
    "        y = self.y_range\n",
    "        obs = set()\n",
    "\n",
    "        for y in range(len(room.imgdf)):\n",
    "            for x in range(len(room.imgdf.iloc[y])):\n",
    "                if room.imgdf.iloc[y][x]==1:\n",
    "                    obs.add((x,y))\n",
    "                    obs.add((x-1,y))\n",
    "                    obs.add((x+1,y))\n",
    "                    obs.add((x,y+1))\n",
    "                    obs.add((x,y-1))\n",
    "        return obs\n"
   ]
  },
  {
   "cell_type": "code",
   "execution_count": 66,
   "metadata": {},
   "outputs": [],
   "source": [
    "\n",
    "class Plotting:\n",
    "    def __init__(self, xI, xG):\n",
    "        self.xI, self.xG = xI, xG\n",
    "        self.env = Env()\n",
    "        self.obs = self.env.obs_map()\n",
    "\n",
    "    def update_obs(self, obs):\n",
    "        self.obs = obs\n",
    "\n",
    "    def animation(self, path, visited, name):\n",
    "        self.plot_grid(name)\n",
    "        self.plot_visited(visited)\n",
    "        self.plot_path(path)\n",
    "        plt.show()\n",
    "\n",
    "    def animation_lrta(self, path, visited, name):\n",
    "        self.plot_grid(name)\n",
    "        cl = self.color_list_2()\n",
    "        path_combine = []\n",
    "\n",
    "        for k in range(len(path)):\n",
    "            self.plot_visited(visited[k], cl[k])\n",
    "            plt.pause(0.2)\n",
    "            self.plot_path(path[k])\n",
    "            path_combine += path[k]\n",
    "            plt.pause(0.2)\n",
    "        if self.xI in path_combine:\n",
    "            path_combine.remove(self.xI)\n",
    "        self.plot_path(path_combine)\n",
    "        plt.show()\n",
    "\n",
    "    def animation_ara_star(self, path, visited, name):\n",
    "        self.plot_grid(name)\n",
    "        cl_v, cl_p = self.color_list()\n",
    "\n",
    "        for k in range(len(path)):\n",
    "            self.plot_visited(visited[k], cl_v[k])\n",
    "            self.plot_path(path[k], cl_p[k], True)\n",
    "            plt.pause(0.5)\n",
    "\n",
    "        plt.show()\n",
    "\n",
    "    def animation_bi_astar(self, path, v_fore, v_back, name):\n",
    "        self.plot_grid(name)\n",
    "        self.plot_visited_bi(v_fore, v_back)\n",
    "        self.plot_path(path)\n",
    "        plt.show()\n",
    "\n",
    "    def plot_grid(self, name):\n",
    "        obs_x = [x[0] for x in self.obs]\n",
    "        obs_y = [x[1] for x in self.obs]\n",
    "\n",
    "        plt.plot(self.xI[0], self.xI[1], \"bs\")\n",
    "        plt.plot(self.xG[0], self.xG[1], \"gs\")\n",
    "        plt.plot(obs_x, obs_y, \"sk\")\n",
    "        plt.title(name)\n",
    "        plt.axis(\"equal\")\n",
    "\n",
    "    def plot_visited(self, visited, cl='gray'):\n",
    "        if self.xI in visited:\n",
    "            visited.remove(self.xI)\n",
    "\n",
    "        if self.xG in visited:\n",
    "            visited.remove(self.xG)\n",
    "\n",
    "        count = 0\n",
    "\n",
    "        for x in visited:\n",
    "            count += 1\n",
    "            plt.plot(x[0], x[1], color=cl, marker='o')\n",
    "            plt.gcf().canvas.mpl_connect('key_release_event',\n",
    "                                         lambda event: [exit(0) if event.key == 'escape' else None])\n",
    "\n",
    "            if count < len(visited) / 3:\n",
    "                length = 20\n",
    "            elif count < len(visited) * 2 / 3:\n",
    "                length = 30\n",
    "            else:\n",
    "                length = 40\n",
    "            #\n",
    "            # length = 15\n",
    "\n",
    "            if count % length == 0:\n",
    "                plt.pause(0.001)\n",
    "        plt.pause(0.01)\n",
    "\n",
    "    def plot_path(self, path, cl='r', flag=False):\n",
    "        path_x = [path[i][0] for i in range(len(path))]\n",
    "        path_y = [path[i][1] for i in range(len(path))]\n",
    "\n",
    "        if not flag:\n",
    "            plt.plot(path_x, path_y, linewidth='3', color='r')\n",
    "        else:\n",
    "            plt.plot(path_x, path_y, linewidth='3', color=cl)\n",
    "\n",
    "        plt.plot(self.xI[0], self.xI[1], \"bs\")\n",
    "        plt.plot(self.xG[0], self.xG[1], \"gs\")\n",
    "\n",
    "        plt.pause(0.01)\n",
    "\n",
    "    def plot_visited_bi(self, v_fore, v_back):\n",
    "        if self.xI in v_fore:\n",
    "            v_fore.remove(self.xI)\n",
    "\n",
    "        if self.xG in v_back:\n",
    "            v_back.remove(self.xG)\n",
    "\n",
    "        len_fore, len_back = len(v_fore), len(v_back)\n",
    "\n",
    "        for k in range(max(len_fore, len_back)):\n",
    "            if k < len_fore:\n",
    "                plt.plot(v_fore[k][0], v_fore[k][1], linewidth='3', color='gray', marker='o')\n",
    "            if k < len_back:\n",
    "                plt.plot(v_back[k][0], v_back[k][1], linewidth='3', color='cornflowerblue', marker='o')\n",
    "\n",
    "            plt.gcf().canvas.mpl_connect('key_release_event',\n",
    "                                         lambda event: [exit(0) if event.key == 'escape' else None])\n",
    "\n",
    "            if k % 10 == 0:\n",
    "                plt.pause(0.001)\n",
    "        plt.pause(0.01)\n",
    "\n",
    "    @staticmethod\n",
    "    def color_list():\n",
    "        cl_v = ['silver',\n",
    "                'wheat',\n",
    "                'lightskyblue',\n",
    "                'royalblue',\n",
    "                'slategray']\n",
    "        cl_p = ['gray',\n",
    "                'orange',\n",
    "                'deepskyblue',\n",
    "                'red',\n",
    "                'm']\n",
    "        return cl_v, cl_p\n",
    "\n",
    "    @staticmethod\n",
    "    def color_list_2():\n",
    "        cl = ['silver',\n",
    "              'steelblue',\n",
    "              'dimgray',\n",
    "              'cornflowerblue',\n",
    "              'dodgerblue',\n",
    "              'royalblue',\n",
    "              'plum',\n",
    "              'mediumslateblue',\n",
    "              'mediumpurple',\n",
    "              'blueviolet',\n",
    "              ]\n",
    "        return cl"
   ]
  },
  {
   "cell_type": "code",
   "execution_count": null,
   "metadata": {},
   "outputs": [],
   "source": [
    "env = Env()"
   ]
  },
  {
   "cell_type": "code",
   "execution_count": 90,
   "metadata": {},
   "outputs": [],
   "source": [
    "\"\"\"\n",
    "D_star_Lite 2D\n",
    "@author: huiming zhou\n",
    "\"\"\"\n",
    "\n",
    "import os\n",
    "import sys\n",
    "import math\n",
    "import matplotlib.pyplot as plt\n",
    "\n",
    "# sys.path.append(os.path.dirname(os.path.abspath(__file__)) +\n",
    "#                 \"/../../Search_based_Planning/\")\n",
    "\n",
    "# from PathPlanning.Search_based_Planning.Search_2D import plotting\n",
    "\n",
    "\n",
    "class DStar:\n",
    "    def __init__(self, s_start, s_goal, heuristic_type):\n",
    "        self.s_start, self.s_goal = s_start, s_goal\n",
    "        self.heuristic_type = heuristic_type\n",
    "\n",
    "        self.Env = Env()  # class Env\n",
    "        self.Plot = Plotting(s_start, s_goal)\n",
    "\n",
    "        self.u_set = self.Env.motions  # feasible input set\n",
    "        self.obs = self.Env.obs  # position of obstacles\n",
    "        self.x = self.Env.x_range\n",
    "        self.y = self.Env.y_range\n",
    "\n",
    "        self.g, self.rhs, self.U = {}, {}, {}\n",
    "        self.km = 0\n",
    "\n",
    "        for i in range(1, self.Env.x_range - 1):\n",
    "            for j in range(1, self.Env.y_range - 1):\n",
    "                self.rhs[(i, j)] = float(\"inf\")\n",
    "                self.g[(i, j)] = float(\"inf\")\n",
    "\n",
    "        self.rhs[self.s_goal] = 0.0\n",
    "        self.U[self.s_goal] = self.CalculateKey(self.s_goal)\n",
    "        self.visited = set()\n",
    "        self.count = 0\n",
    "        self.fig = plt.figure()\n",
    "\n",
    "    def run(self):\n",
    "        self.Plot.plot_grid(\"D* Lite\")\n",
    "        self.ComputePath()\n",
    "        self.plot_path(self.extract_path())\n",
    "        self.fig.canvas.mpl_connect('button_press_event', self.on_press)\n",
    "        plt.show()\n",
    "\n",
    "    def on_press(self, event):\n",
    "        x, y = event.xdata, event.ydata\n",
    "        if x < 0 or x > self.x - 1 or y < 0 or y > self.y - 1:\n",
    "            print(\"Please choose right area!\")\n",
    "        else:\n",
    "            x, y = int(x), int(y)\n",
    "            print(\"Change position: s =\", x, \",\", \"y =\", y)\n",
    "\n",
    "            s_curr = self.s_start\n",
    "            s_last = self.s_start\n",
    "            i = 0\n",
    "            path = [self.s_start]\n",
    "\n",
    "            while s_curr != self.s_goal:\n",
    "                s_list = {}\n",
    "\n",
    "                for s in self.get_neighbor(s_curr):\n",
    "                    s_list[s] = self.g[s] + self.cost(s_curr, s)\n",
    "                s_curr = min(s_list, key=s_list.get)\n",
    "                path.append(s_curr)\n",
    "\n",
    "                if i < 1:\n",
    "                    self.km += self.h(s_last, s_curr)\n",
    "                    s_last = s_curr\n",
    "                    if (x, y) not in self.obs:\n",
    "                        self.obs.add((x, y))\n",
    "                        plt.plot(x, y, 'sk')\n",
    "                        self.g[(x, y)] = float(\"inf\")\n",
    "                        self.rhs[(x, y)] = float(\"inf\")\n",
    "                    else:\n",
    "                        self.obs.remove((x, y))\n",
    "                        plt.plot(x, y, marker='s', color='white')\n",
    "                        self.UpdateVertex((x, y))\n",
    "                    for s in self.get_neighbor((x, y)):\n",
    "                        self.UpdateVertex(s)\n",
    "                    i += 1\n",
    "\n",
    "                    self.count += 1\n",
    "                    self.visited = set()\n",
    "                    self.ComputePath()\n",
    "\n",
    "            # self.plot_visited(self.visited)\n",
    "            self.plot_path(path)\n",
    "            self.fig.canvas.draw_idle()\n",
    "\n",
    "    def ComputePath(self):\n",
    "        while True:\n",
    "            s, v = self.TopKey()\n",
    "            if v >= self.CalculateKey(self.s_start) and \\\n",
    "                    self.rhs[self.s_start] == self.g[self.s_start]:\n",
    "                break\n",
    "\n",
    "            k_old = v\n",
    "            self.U.pop(s)\n",
    "            self.visited.add(s)\n",
    "\n",
    "            if k_old < self.CalculateKey(s):\n",
    "                self.U[s] = self.CalculateKey(s)\n",
    "            elif self.g[s] > self.rhs[s]:\n",
    "                self.g[s] = self.rhs[s]\n",
    "                for x in self.get_neighbor(s):\n",
    "                    self.UpdateVertex(x)\n",
    "            else:\n",
    "                self.g[s] = float(\"inf\")\n",
    "                self.UpdateVertex(s)\n",
    "                for x in self.get_neighbor(s):\n",
    "                    self.UpdateVertex(x)\n",
    "\n",
    "    def UpdateVertex(self, s):\n",
    "        if s != self.s_goal:\n",
    "            self.rhs[s] = float(\"inf\")\n",
    "            for x in self.get_neighbor(s):\n",
    "                self.rhs[s] = min(self.rhs[s], self.g[x] + self.cost(s, x))\n",
    "        if s in self.U:\n",
    "            self.U.pop(s)\n",
    "\n",
    "        if self.g[s] != self.rhs[s]:\n",
    "            self.U[s] = self.CalculateKey(s)\n",
    "\n",
    "    def CalculateKey(self, s):\n",
    "        return [min(self.g[s], self.rhs[s]) + self.h(self.s_start, s) + self.km,\n",
    "                min(self.g[s], self.rhs[s])]\n",
    "\n",
    "    def TopKey(self):\n",
    "        \"\"\"\n",
    "        :return: return the min key and its value.\n",
    "        \"\"\"\n",
    "\n",
    "        s = min(self.U, key=self.U.get)\n",
    "        return s, self.U[s]\n",
    "\n",
    "    def h(self, s_start, s_goal):\n",
    "        heuristic_type = self.heuristic_type  # heuristic type\n",
    "\n",
    "        if heuristic_type == \"manhattan\":\n",
    "            return abs(s_goal[0] - s_start[0]) + abs(s_goal[1] - s_start[1])\n",
    "        else:\n",
    "            return math.hypot(s_goal[0] - s_start[0], s_goal[1] - s_start[1])\n",
    "\n",
    "    def cost(self, s_start, s_goal):\n",
    "        \"\"\"\n",
    "        Calculate Cost for this motion\n",
    "        :param s_start: starting node\n",
    "        :param s_goal: end node\n",
    "        :return:  Cost for this motion\n",
    "        :note: Cost function could be more complicate!\n",
    "        \"\"\"\n",
    "\n",
    "        if self.is_collision(s_start, s_goal):\n",
    "            return float(\"inf\")\n",
    "\n",
    "        return math.hypot(s_goal[0] - s_start[0], s_goal[1] - s_start[1])\n",
    "\n",
    "    def is_collision(self, s_start, s_end):\n",
    "        if s_start in self.obs or s_end in self.obs:\n",
    "            return True\n",
    "\n",
    "        if s_start[0] != s_end[0] and s_start[1] != s_end[1]:\n",
    "            if s_end[0] - s_start[0] == s_start[1] - s_end[1]:\n",
    "                s1 = (min(s_start[0], s_end[0]), min(s_start[1], s_end[1]))\n",
    "                s2 = (max(s_start[0], s_end[0]), max(s_start[1], s_end[1]))\n",
    "            else:\n",
    "                s1 = (min(s_start[0], s_end[0]), max(s_start[1], s_end[1]))\n",
    "                s2 = (max(s_start[0], s_end[0]), min(s_start[1], s_end[1]))\n",
    "\n",
    "            if s1 in self.obs or s2 in self.obs:\n",
    "                return True\n",
    "\n",
    "        return False\n",
    "\n",
    "    def get_neighbor(self, s):\n",
    "        nei_list = set()\n",
    "        for u in self.u_set:\n",
    "            s_next = tuple([s[i] + u[i] for i in range(2)])\n",
    "            if s_next not in self.obs:\n",
    "                nei_list.add(s_next)\n",
    "\n",
    "        return nei_list\n",
    "\n",
    "    def extract_path(self):\n",
    "        \"\"\"\n",
    "        Extract the path based on the PARENT set.\n",
    "        :return: The planning path\n",
    "        \"\"\"\n",
    "\n",
    "        path = [self.s_start]\n",
    "        s = self.s_start\n",
    "\n",
    "        for k in range(200):\n",
    "            g_list = {}\n",
    "            for x in self.get_neighbor(s):\n",
    "                if not self.is_collision(s, x):\n",
    "                    g_list[x] = self.g[x]\n",
    "            s = min(g_list, key=g_list.get)\n",
    "            path.append(s)\n",
    "            if s == self.s_goal:\n",
    "                break\n",
    "\n",
    "        return list(path)\n",
    "\n",
    "    def plot_path(self, path):\n",
    "        px = [x[0] for x in path]\n",
    "        py = [x[1] for x in path]\n",
    "        plt.plot(px, py, linewidth=2)\n",
    "        plt.plot(self.s_start[0], self.s_start[1], \"bs\")\n",
    "        plt.plot(self.s_goal[0], self.s_goal[1], \"gs\")\n",
    "\n",
    "    def plot_visited(self, visited):\n",
    "        color = ['gainsboro', 'lightgray', 'silver', 'darkgray',\n",
    "                 'bisque', 'navajowhite', 'moccasin', 'wheat',\n",
    "                 'powderblue', 'skyblue', 'lightskyblue', 'cornflowerblue']\n",
    "\n",
    "        if self.count >= len(color) - 1:\n",
    "            self.count = 0\n",
    "\n",
    "        for x in visited:\n",
    "            plt.plot(x[0], x[1], marker='s', color=color[self.count])\n",
    "\n"
   ]
  },
  {
   "cell_type": "code",
   "execution_count": 91,
   "metadata": {},
   "outputs": [
    {
     "output_type": "stream",
     "name": "stdout",
     "text": [
      "Using matplotlib backend: TkAgg\n"
     ]
    }
   ],
   "source": [
    "%matplotlib\n",
    "s_start = (round(dog.x,0), round(dog.y,0))\n",
    "s_goal = (30,465)\n",
    "\n",
    "dstar = DStar(s_start, s_goal, \"euclidean\")\n",
    "dstar.run()"
   ]
  },
  {
   "cell_type": "code",
   "execution_count": 92,
   "metadata": {},
   "outputs": [],
   "source": [
    "path = dstar.extract_path()"
   ]
  },
  {
   "cell_type": "code",
   "execution_count": 93,
   "metadata": {},
   "outputs": [
    {
     "output_type": "execute_result",
     "data": {
      "text/plain": [
       "[(126, 341),\n",
       " (125, 342),\n",
       " (124, 343),\n",
       " (123, 344),\n",
       " (122, 345),\n",
       " (121, 346),\n",
       " (120, 347),\n",
       " (119, 348),\n",
       " (118, 349),\n",
       " (117, 350),\n",
       " (116, 351),\n",
       " (115, 352),\n",
       " (114, 353),\n",
       " (113, 354),\n",
       " (112, 355),\n",
       " (111, 356),\n",
       " (110, 357),\n",
       " (109, 358),\n",
       " (108, 359),\n",
       " (107, 360),\n",
       " (106, 361),\n",
       " (105, 362),\n",
       " (104, 363),\n",
       " (103, 364),\n",
       " (102, 365),\n",
       " (101, 366),\n",
       " (100, 367),\n",
       " (99, 368),\n",
       " (98, 369),\n",
       " (97, 370),\n",
       " (96, 371),\n",
       " (95, 372),\n",
       " (94, 373),\n",
       " (93, 374),\n",
       " (92, 375),\n",
       " (91, 376),\n",
       " (90, 377),\n",
       " (89, 378),\n",
       " (88, 379),\n",
       " (87, 380),\n",
       " (86, 381),\n",
       " (85, 382),\n",
       " (84, 383),\n",
       " (83, 384),\n",
       " (82, 385),\n",
       " (81, 386),\n",
       " (80, 387),\n",
       " (80, 388),\n",
       " (79, 389),\n",
       " (78, 390),\n",
       " (77, 391),\n",
       " (76, 392),\n",
       " (75, 393),\n",
       " (74, 394),\n",
       " (73, 395),\n",
       " (72, 396),\n",
       " (71, 397),\n",
       " (70, 398),\n",
       " (69, 399),\n",
       " (68, 400),\n",
       " (67, 401),\n",
       " (66, 402),\n",
       " (65, 403),\n",
       " (64, 404),\n",
       " (63, 405),\n",
       " (62, 406),\n",
       " (61, 407),\n",
       " (60, 408),\n",
       " (59, 409),\n",
       " (58, 410),\n",
       " (57, 411),\n",
       " (56, 412),\n",
       " (55, 413),\n",
       " (55, 414),\n",
       " (55, 415),\n",
       " (55, 416),\n",
       " (55, 417),\n",
       " (55, 418),\n",
       " (55, 419),\n",
       " (55, 420),\n",
       " (55, 421),\n",
       " (55, 422),\n",
       " (55, 423),\n",
       " (55, 424),\n",
       " (55, 425),\n",
       " (55, 426),\n",
       " (55, 427),\n",
       " (55, 428),\n",
       " (55, 429),\n",
       " (55, 430),\n",
       " (55, 431),\n",
       " (55, 432),\n",
       " (54, 433),\n",
       " (54, 434),\n",
       " (54, 435),\n",
       " (53, 436),\n",
       " (52, 437),\n",
       " (51, 438),\n",
       " (50, 439),\n",
       " (49, 440),\n",
       " (48, 441),\n",
       " (47, 442),\n",
       " (46, 443),\n",
       " (45, 444),\n",
       " (44, 445),\n",
       " (43, 446),\n",
       " (42, 447),\n",
       " (41, 448),\n",
       " (40, 449),\n",
       " (39, 450),\n",
       " (38, 451),\n",
       " (37, 452),\n",
       " (36, 453),\n",
       " (35, 454),\n",
       " (34, 455),\n",
       " (33, 456),\n",
       " (32, 457),\n",
       " (31, 458),\n",
       " (30, 459),\n",
       " (30, 460),\n",
       " (30, 461),\n",
       " (30, 462),\n",
       " (30, 463),\n",
       " (30, 464),\n",
       " (30, 465)]"
      ]
     },
     "metadata": {},
     "execution_count": 93
    }
   ],
   "source": [
    "path"
   ]
  },
  {
   "cell_type": "code",
   "execution_count": 96,
   "metadata": {},
   "outputs": [],
   "source": [
    "showmap(room, dog, path=path, goal=s_goal)"
   ]
  },
  {
   "cell_type": "code",
   "execution_count": 77,
   "metadata": {},
   "outputs": [
    {
     "output_type": "execute_result",
     "data": {
      "text/plain": [
       "(11.944503092668516, 4.925711674215627)"
      ]
     },
     "metadata": {},
     "execution_count": 77
    }
   ],
   "source": [
    "dog.x, dog.y"
   ]
  },
  {
   "cell_type": "code",
   "execution_count": 95,
   "metadata": {
    "tags": [
     "outputPrepend"
    ]
   },
   "outputs": [
    {
     "output_type": "stream",
     "name": "stdout",
     "text": [
      "99.91761682570042, Current Y: 367.0264917508013\nGoal X: 99, Goal Y: 368\nAngle absolu -133.30713958537592\nAngle relatif -359.63796281598616\nDistance à parcourir 1.337811253528094\n--------------\nCurrent X: 98.93702287421387, Current Y: 367.98919110316115\nGoal X: 98, Goal Y: 369\nAngle absolu -132.8306097574734\nAngle relatif -1.7636732884747062\nDistance à parcourir 1.3783129153891702\n--------------\nCurrent X: 97.87941657337161, Current Y: 368.9864241448792\nGoal X: 97, Goal Y: 370\nAngle absolu -130.946138222654\nAngle relatif -358.1163082211726\nDistance à parcourir 1.3419051842825986\n--------------\nCurrent X: 97.0203277047279, Current Y: 370.08468511632765\nGoal X: 96, Goal Y: 371\nAngle absolu -138.10537637938606\nAngle relatif -7.60771462579072\nDistance à parcourir 1.370718775426763\n--------------\nCurrent X: 95.9030754252608, Current Y: 370.9879739724819\nGoal X: 95, Goal Y: 372\nAngle absolu -131.7439384465467\nAngle relatif -353.6502596654786\nDistance à parcourir 1.3563708578718683\n--------------\nCurrent X: 94.96549012573594, Current Y: 372.0443658909326\nGoal X: 94, Goal Y: 373\nAngle absolu -135.293944136108\nAngle relatif -1.7681936523213153\nDistance à parcourir 1.3584578511336292\n--------------\nCurrent X: 94.0587841439565, Current Y: 373.08857418724006\nGoal X: 93, Goal Y: 374\nAngle absolu -139.27737134663306\nAngle relatif -3.9951682873104346\nDistance à parcourir 1.3970400408216028\n--------------\nCurrent X: 93.02812883031089, Current Y: 374.11666822581367\nGoal X: 92, Goal Y: 375\nAngle absolu -139.3319990929593\nAngle relatif -0.08322090267188287\nDistance à parcourir 1.355479219687123\n--------------\nCurrent X: 91.94725748052507, Current Y: 374.98548910688766\nGoal X: 91, Goal Y: 376\nAngle absolu -133.03655301023923\nAngle relatif -353.70458948467194\nDistance à parcourir 1.3879946277469177\n--------------\nCurrent X: 90.95657303100093, Current Y: 376.04770440868384\nGoal X: 90, Goal Y: 377\nAngle absolu -135.12838957484558\nAngle relatif -0.345236715927399\nDistance à parcourir 1.3497773360367609\n--------------\nCurrent X: 89.90005612185507, Current Y: 377.05176037282877\nGoal X: 89, Goal Y: 378\nAngle absolu -133.50668576215165\nAngle relatif -358.3760479393179\nDistance à parcourir 1.3073864818892051\n--------------\nCurrent X: 88.90487537013152, Current Y: 377.9587626378045\nGoal X: 88, Goal Y: 379\nAngle absolu -130.99189824881503\nAngle relatif -359.87626285170904\nDistance à parcourir 1.3794834830118392\n--------------\nCurrent X: 87.99025930734993, Current Y: 379.05881991948513\nGoal X: 87, Goal Y: 380\nAngle absolu -136.45561261972352\nAngle relatif -3.361104622015887\nDistance à parcourir 1.3661747471502825\n--------------\nCurrent X: 87.01427838491088, Current Y: 380.10945378208083\nGoal X: 86, Goal Y: 381\nAngle absolu -138.7165548488193\nAngle relatif -2.26171632161288\nDistance à parcourir 1.3497530175360066\n--------------\nCurrent X: 86.0395461139868, Current Y: 381.12140406668107\nGoal X: 85, Goal Y: 382\nAngle absolu -139.79641964431352\nAngle relatif -1.1024572271861643\nDistance à parcourir 1.3610976956668575\n--------------\nCurrent X: 84.96638434387027, Current Y: 382.097183288205\nGoal X: 84, Goal Y: 383\nAngle absolu -136.9477593894847\nAngle relatif -357.1580012535558\nDistance à parcourir 1.3224888336670233\n--------------\nCurrent X: 84.01369728709949, Current Y: 383.06870675296165\nGoal X: 83, Goal Y: 384\nAngle absolu -137.42601786931618\nAngle relatif -0.48103835108275916\nDistance à parcourir 1.3765497818285057\n--------------\nCurrent X: 82.91400319156827, Current Y: 384.0547559449709\nGoal X: 82, Goal Y: 385\nAngle absolu -134.03735170419097\nAngle relatif -356.61543017763984\nDistance à parcourir 1.3148719168667442\n--------------\nCurrent X: 82.00846210099883, Current Y: 385.12015512978724\nGoal X: 81, Goal Y: 386\nAngle absolu -138.89653811284018\nAngle relatif -4.102577345429324\nDistance à parcourir 1.3383283620960458\n--------------\nCurrent X: 80.94470408767185, Current Y: 386.1401574681229\nGoal X: 80, Goal Y: 387\nAngle absolu -137.69243777748184\nAngle relatif -358.8195030998872\nDistance à parcourir 1.277417313523174\n--------------\nCurrent X: 79.90529281336505, Current Y: 387.00915465347794\nGoal X: 80, Goal Y: 388\nAngle absolu -84.54012958375921\nAngle relatif -307.3846841436374\nDistance à parcourir 0.9953612168076156\n--------------\nCurrent X: 80.11392396745015, Current Y: 388.01532595683216\nGoal X: 79, Goal Y: 389\nAngle absolu -138.52432098719353\nAngle relatif -53.69989326755115\nDistance à parcourir 1.4867446238505069\n--------------\nCurrent X: 78.80608706790119, Current Y: 388.9288877019981\nGoal X: 78, Goal Y: 390\nAngle absolu -126.96402447786129\nAngle relatif -348.77321193322973\nDistance à parcourir 1.3405438881172076\n--------------\nCurrent X: 78.05157500899365, Current Y: 390.04928418282344\nGoal X: 77, Goal Y: 391\nAngle absolu -137.88365995200715\nAngle relatif -14.031585045802785\nDistance à parcourir 1.4176285001966098\n--------------\nCurrent X: 76.9557047536689, Current Y: 390.9867218313756\nGoal X: 76, Goal Y: 392\nAngle absolu -133.32513831714456\nAngle relatif -355.4299327528811\nDistance à parcourir 1.3928762411629376\n--------------\nCurrent X: 76.0388846468412, Current Y: 392.0582704562122\nGoal X: 75, Goal Y: 393\nAngle absolu -137.8082799066977\nAngle relatif -4.641406158264999\nDistance à parcourir 1.4021896601691008\n--------------\nCurrent X: 74.85453909674541, Current Y: 392.9481764933374\nGoal X: 74, Goal Y: 394\nAngle absolu -129.09164393705353\nAngle relatif -351.26633029911625\nDistance à parcourir 1.3552010024473915\n--------------\nCurrent X: 73.86409282786165, Current Y: 393.9965344073454\nGoal X: 73, Goal Y: 395\nAngle absolu -130.73202330444283\nAngle relatif -1.2503157979577963\nDistance à parcourir 1.324235481628404\n--------------\nCurrent X: 72.97180556926925, Current Y: 395.02140041768445\nGoal X: 72, Goal Y: 396\nAngle absolu -134.80041751902263\nAngle relatif -4.057921678730395\nDistance à parcourir 1.3791530759748558\n--------------\nCurrent X: 71.88386983288625, Current Y: 395.9835207848719\nGoal X: 71, Goal Y: 397\nAngle absolu -131.00828007678984\nAngle relatif -356.2149704294378\nDistance à parcourir 1.3470174001377062\n--------------\nCurrent X: 70.89127577112667, Current Y: 397.10923732431786\nGoal X: 70, Goal Y: 398\nAngle absolu -135.01649695195934\nAngle relatif -2.86242204530987\nDistance à parcourir 1.260091522305364\n--------------\nCurrent X: 69.823444069649, Current Y: 397.9840565270932\nGoal X: 69, Goal Y: 399\nAngle absolu -129.02551161995845\nAngle relatif -354.0253059187869\nDistance à parcourir 1.3077466405929288\n--------------\nCurrent X: 68.8502388536426, Current Y: 398.88930151636305\nGoal X: 68, Goal Y: 400\nAngle absolu -127.43402889362875\nAngle relatif -355.1303747867027\nDistance à parcourir 1.3987698988028363\n--------------\nCurrent X: 67.93724561292622, Current Y: 400.06769483288883\nGoal X: 67, Goal Y: 401\nAngle absolu -135.1514085834052\nAngle relatif -7.563668455410436\nDistance à parcourir 1.3219766501612746\n--------------\nCurrent X: 66.82102476934759, Current Y: 400.9834627095217\nGoal X: 66, Goal Y: 402\nAngle absolu -128.92670511529917\nAngle relatif -353.70214471139684\nDistance à parcourir 1.3066865480348553\n--------------\nCurrent X: 65.96657299895664, Current Y: 402.0966555337589\nGoal X: 65, Goal Y: 403\nAngle absolu -136.93663538330887\nAngle relatif -4.859550093748453\nDistance à parcourir 1.322986994267303\n--------------\nCurrent X: 64.87444439297926, Current Y: 402.96243126610096\nGoal X: 64, Goal Y: 404\nAngle absolu -130.1235908555451\nAngle relatif -353.15173175702625\nDistance à parcourir 1.356908940930713\n--------------\nCurrent X: 64.1034636974738, Current Y: 404.17191900436444\nGoal X: 63, Goal Y: 405\nAngle absolu -143.11404771896935\nAngle relatif -15.333755037618175\nDistance à parcourir 1.3796196095211637\n--------------\nCurrent X: 63.02818632686511, Current Y: 405.1388117948073\nGoal X: 62, Goal Y: 406\nAngle absolu -140.05113533734485\nAngle relatif -356.9067117395516\nDistance à parcourir 1.3411980642378754\n--------------\nCurrent X: 62.086243022518744, Current Y: 406.14251636144655\nGoal X: 61, Goal Y: 407\nAngle absolu -141.71232732250414\nAngle relatif -4.038645811450067\nDistance à parcourir 1.3839082680429056\n--------------\nCurrent X: 61.01745765813524, Current Y: 407.0747723570825\nGoal X: 60, Goal Y: 408\nAngle absolu -137.71810661541016\nAngle relatif -356.0421017195242\nDistance à parcourir 1.3752331719809223\n--------------\nCurrent X: 59.90694794301705, Current Y: 408.0644295617816\nGoal X: 59, Goal Y: 409\nAngle absolu -134.11001361335528\nAngle relatif -358.40180060728136\nDistance à parcourir 1.303014434383227\n--------------\nCurrent X: 58.9936779300783, Current Y: 409.0765693253318\nGoal X: 58, Goal Y: 410\nAngle absolu -137.09850988920925\nAngle relatif -1.6402346825763061\nDistance à parcourir 1.3565102431028324\n--------------\nCurrent X: 58.001672455139136, Current Y: 409.97244966808\nGoal X: 57, Goal Y: 411\nAngle absolu -134.26936915782156\nAngle relatif -357.1826679131616\nDistance à parcourir 1.4349938647999025\n--------------\nCurrent X: 57.06337044977372, Current Y: 411.1481522103091\nGoal X: 56, Goal Y: 412\nAngle absolu -141.3023821276954\nAngle relatif -10.058541339840076\nDistance à parcourir 1.3624982092660713\n--------------\nCurrent X: 56.00871081549248, Current Y: 412.1645340745957\nGoal X: 55, Goal Y: 413\nAngle absolu -140.36670634787828\nAngle relatif -358.96800441908215\nDistance à parcourir 1.309771286066082\n--------------\nCurrent X: 55.047605969126344, Current Y: 413.14978020473063\nGoal X: 55, Goal Y: 414\nAngle absolu -93.20479005759009\nAngle relatif -311.59757436029713\nDistance à parcourir 0.8515515419305775\n--------------\nCurrent X: 55.05988575120261, Current Y: 414.0074509901833\nGoal X: 55, Goal Y: 415\nAngle absolu -93.45277285404543\nAngle relatif -1.7624573989943428\nDistance à parcourir 0.9943539812788913\n--------------\nCurrent X: 55.04243488211685, Current Y: 415.08063257180794\nGoal X: 55, Goal Y: 416\nAngle absolu -92.64270320763026\nAngle relatif -359.17530841436906\nDistance à parcourir 0.9203462322630299\n--------------\nCurrent X: 54.983430162006876, Current Y: 416.02367673194607\nGoal X: 55, Goal Y: 417\nAngle absolu -89.0276881864133\nAngle relatif -355.62502129744155\nDistance à parcourir 0.9764638668556189\n--------------\nCurrent X: 54.92159353343613, Current Y: 417.05205408998074\nGoal X: 55, Goal Y: 418\nAngle absolu -85.27171651863557\nAngle relatif -355.4600946029205\nDistance à parcourir 0.9511829594359167\n--------------\nCurrent X: 54.83440609897316, Current Y: 418.0533737813494\nGoal X: 55, Goal Y: 419\nAngle absolu -80.07761220303536\nAngle relatif -351.625581355273\nDistance à parcourir 0.9610008001526219\n--------------\nCurrent X: 54.927742048816725, Current Y: 419.0464006096353\nGoal X: 55, Goal Y: 420\nAngle absolu -85.66675566645056\nAngle relatif -7.536636081991276\nDistance à parcourir 0.9563331055720491\n--------------\nCurrent X: 54.91778192500656, Current Y: 420.0493274843966\nGoal X: 55, Goal Y: 421\nAngle absolu -85.0571239198692\nAngle relatif -359.46249477446804\nDistance à parcourir 0.954221171311623\n--------------\nCurrent X: 55.05860267757914, Current Y: 421.0285645895086\nGoal X: 55, Goal Y: 422\nAngle absolu -93.45223348891044\nAngle relatif -11.82220393326594\nDistance à parcourir 0.9732014337104123\n--------------\nCurrent X: 54.92372544400859, Current Y: 422.0521910065945\nGoal X: 55, Goal Y: 423\nAngle absolu -85.39905972759657\nAngle relatif -351.91811884220425\nDistance à parcourir 0.9508731229096818\n--------------\nCurrent X: 54.95644931415802, Current Y: 423.01481814619274\nGoal X: 55, Goal Y: 424\nAngle absolu -87.46884596775595\nAngle relatif -0.5580998203976151\nDistance à parcourir 0.9861439789951669\n--------------\nCurrent X: 55.09849703962399, Current Y: 424.0226859764636\nGoal X: 55, Goal Y: 425\nAngle absolu -95.75503133372895\nAngle relatif -8.286920825850927\nDistance à parcourir 0.9822649171255103\n--------------\nCurrent X: 55.104154441467756, Current Y: 425.05618868186156\nGoal X: 55, Goal Y: 426\nAngle absolu -96.29740314737859\nAngle relatif -0.4680276004859252\nDistance à parcourir 0.9495409164031253\n--------------\nCurrent X: 54.90018669188383, Current Y: 426.07611676406657\nGoal X: 55, Goal Y: 427\nAngle absolu -83.83386831096185\nAngle relatif -347.53458684999634\nDistance à parcourir 0.9292593449171878\n--------------\nCurrent X: 54.99179743002542, Current Y: 427.0679874849455\nGoal X: 55, Goal Y: 428\nAngle absolu -89.49575729985102\nAngle relatif -2.491494671203668\nDistance à parcourir 0.9320486094471792\n--------------\nCurrent X: 54.97096935941429, Current Y: 428.06029007353686\nGoal X: 55, Goal Y: 429\nAngle absolu -88.23051318045356\nAngle relatif -358.75691427677714\nDistance à parcourir 0.9401582441196655\n--------------\nCurrent X: 54.98676446831217, Current Y: 429.0332414822767\nGoal X: 55, Goal Y: 430\nAngle absolu -89.21563377270294\nAngle relatif -358.25110012993275\nDistance à parcourir 0.9668491148517419\n--------------\nCurrent X: 55.004545034081985, Current Y: 429.9857721558959\nGoal X: 55, Goal Y: 431\nAngle absolu -90.25675643692652\nAngle relatif -4.314935623809674\nDistance à parcourir 1.0142380278272085\n--------------\nCurrent X: 55.03482407558299, Current Y: 431.04578444575094\nGoal X: 55, Goal Y: 432\nAngle absolu -92.0900806229893\nAngle relatif -1.8417435966156859\nDistance à parcourir 0.9548507947376131\n--------------\nCurrent X: 54.99526462914251, Current Y: 432.04513852563593\nGoal X: 54, Goal Y: 433\nAngle absolu -136.18689714727716\nAngle relatif -44.10574259947009\nDistance à parcourir 1.3792433132869983\n--------------\nCurrent X: 53.86413260244356, Current Y: 432.95907211249454\nGoal X: 54, Goal Y: 434\nAngle absolu -82.5634940567955\nAngle relatif -306.3396372088524\nDistance à parcourir 1.049757503762341\n--------------\nCurrent X: 54.05492593493138, Current Y: 434.08006819444256\nGoal X: 54, Goal Y: 435\nAngle absolu -93.41687572895437\nAngle relatif -8.19049575306201\nDistance à parcourir 0.9215700652713592\n--------------\nCurrent X: 54.01346921262322, Current Y: 435.0603891615498\nGoal X: 53, Goal Y: 436\nAngle absolu -137.16568573055764\nAngle relatif -43.702644640502115\nDistance à parcourir 1.3820232894811357\n--------------\nCurrent X: 53.00498960682721, Current Y: 436.08422744326526\nGoal X: 52, Goal Y: 437\nAngle absolu -137.65940733881158\nAngle relatif -0.13103483085137668\nDistance à parcourir 1.3596482947803763\n--------------\nCurrent X: 51.98583317522987, Current Y: 437.0988867912181\nGoal X: 51, Goal Y: 438\nAngle absolu -137.57073482936934\nAngle relatif -359.91148918005035\nDistance à parcourir 1.3356167356038318\n--------------\nCurrent X: 51.099495741454746, Current Y: 438.15217453307\nGoal X: 50, Goal Y: 439\nAngle absolu -142.36404291698466\nAngle relatif -6.594834635513507\nDistance à parcourir 1.388415970756658\n--------------\nCurrent X: 49.86210791281914, Current Y: 438.9544098562136\nGoal X: 49, Goal Y: 440\nAngle absolu -129.50619567211726\nAngle relatif -347.1940594387635\nDistance à parcourir 1.355171133889974\n--------------\nCurrent X: 48.82679459044843, Current Y: 439.94342930930316\nGoal X: 48, Goal Y: 441\nAngle absolu -128.04412264427944\nAngle relatif -355.9416575117601\nDistance à parcourir 1.3416150413715526\n--------------\nCurrent X: 48.00144048849899, Current Y: 441.0382240538228\nGoal X: 47, Goal Y: 442\nAngle absolu -136.15743821390595\nAngle relatif -9.302931752983909\nDistance à parcourir 1.3884869544400484\n--------------\nCurrent X: 46.85388636029953, Current Y: 442.017445590758\nGoal X: 46, Goal Y: 443\nAngle absolu -130.99218849302176\nAngle relatif -354.8638536494125\nDistance à parcourir 1.3017430942496042\n--------------\nCurrent X: 45.786134913818586, Current Y: 442.96728738649364\nGoal X: 45, Goal Y: 444\nAngle absolu -127.27958762661675\nAngle relatif -353.12887829149315\nDistance à parcourir 1.2978842185725568\n--------------\nCurrent X: 44.868097300915764, Current Y: 443.9638223463155\nGoal X: 44, Goal Y: 445\nAngle absolu -129.9558742763215\nAngle relatif -4.981340957571547\nDistance à parcourir 1.3517607235943532\n--------------\nCurrent X: 43.85093125641024, Current Y: 445.03279535219707\nGoal X: 43, Goal Y: 446\nAngle absolu -131.34080453982472\nAngle relatif -1.3571610167415997\nDistance à parcourir 1.288242536895713\n--------------\nCurrent X: 42.96908358476657, Current Y: 446.0497379423383\nGoal X: 42, Goal Y: 447\nAngle absolu -135.56183705447643\nAngle relatif -4.214656349057236\nDistance à parcourir 1.3572475722930795\n--------------\nCurrent X: 41.89856802675139, Current Y: 447.05577498694976\nGoal X: 41, Goal Y: 448\nAngle absolu -133.5807318052611\nAngle relatif -358.0086700872686\nDistance à parcourir 1.3034513316459577\n--------------\nCurrent X: 41.022993941276624, Current Y: 448.0722992416251\nGoal X: 40, Goal Y: 449\nAngle absolu -137.79672683859624\nAngle relatif -3.498696180893603\nDistance à parcourir 1.38099431605566\n--------------\nCurrent X: 39.9440136016744, Current Y: 449.0517062886918\nGoal X: 39, Goal Y: 450\nAngle absolu -134.87040593354394\nAngle relatif -357.0632199654033\nDistance à parcourir 1.338066755828347\n--------------\nCurrent X: 38.857499276380985, Current Y: 449.95181958521573\nGoal X: 38, Goal Y: 451\nAngle absolu -129.28603804582863\nAngle relatif -352.31380107078525\nDistance à parcourir 1.3542478321678182\n--------------\nCurrent X: 37.96597047413102, Current Y: 451.10633182176605\nGoal X: 37, Goal Y: 452\nAngle absolu -137.22652444588573\nAngle relatif -9.358974711834662\nDistance à parcourir 1.3159565987071522\n--------------\nCurrent X: 37.069833046241975, Current Y: 452.119745827304\nGoal X: 36, Goal Y: 453\nAngle absolu -140.55259441814883\nAngle relatif -3.4168866664921893\nDistance à parcourir 1.3854205698560096\n--------------\nCurrent X: 35.92041027322126, Current Y: 453.0260578225164\nGoal X: 35, Goal Y: 454\nAngle absolu -133.38132753735994\nAngle relatif -352.83302853853456\nDistance à parcourir 1.3400441918581316\n--------------\nCurrent X: 34.875876978888144, Current Y: 453.9985937657733\nGoal X: 34, Goal Y: 455\nAngle absolu -131.17446872138103\nAngle relatif -356.69060199518134\nDistance à parcourir 1.330404046932475\n--------------\nCurrent X: 34.00949334732743, Current Y: 455.1221314578424\nGoal X: 33, Goal Y: 456\nAngle absolu -138.98935405807626\nAngle relatif -7.635942257620343\nDistance à parcourir 1.3378079068417372\n--------------\nCurrent X: 32.88907397244455, Current Y: 455.9857126141884\nGoal X: 32, Goal Y: 457\nAngle absolu -131.23619678278195\nAngle relatif -352.27706583599354\nDistance à parcourir 1.348788875063425\n--------------\nCurrent X: 31.797590362073617, Current Y: 456.93876910495317\nGoal X: 31, Goal Y: 458\nAngle absolu -126.92746158542523\nAngle relatif -354.3321953857591\nDistance à parcourir 1.3275396032791738\n--------------\nCurrent X: 30.891289604813046, Current Y: 458.03732056236544\nGoal X: 30, Goal Y: 459\nAngle absolu -132.79483034722762\nAngle relatif -5.9643428250706165\nDistance à parcourir 1.3119256302444107\n--------------\nCurrent X: 30.02253646077766, Current Y: 459.08854307146123\nGoal X: 30, Goal Y: 460\nAngle absolu -91.41639281481956\nAngle relatif -318.6312564567852\nDistance à parcourir 0.9117355014727184\n--------------\nCurrent X: 29.935394484653067, Current Y: 460.0437761285927\nGoal X: 30, Goal Y: 461\nAngle absolu -86.1347896850868\nAngle relatif -351.8842214585094\nDistance à parcourir 0.958403863129951\n--------------\nCurrent X: 29.919307765530686, Current Y: 461.03182715388965\nGoal X: 30, Goal Y: 462\nAngle absolu -85.23570219107174\nAngle relatif -358.69139634577255\nDistance à parcourir 0.9715296684348163\n--------------\nCurrent X: 30.169862797216954, Current Y: 461.96043016063373\nGoal X: 30, Goal Y: 463\nAngle absolu -99.2799621794227\nAngle relatif -17.44120637272556\nDistance à parcourir 1.0533559800933259\n--------------\nCurrent X: 29.962031457306388, Current Y: 463.028282989597\nGoal X: 30, Goal Y: 464\nAngle absolu -87.76238233630195\nAngle relatif -348.51226868207686\nDistance à parcourir 0.972458512503638\n--------------\nCurrent X: 30.11780147251344, Current Y: 464.02149763073487\nGoal X: 30, Goal Y: 465\nAngle absolu -96.8647758566913\nAngle relatif -12.48020793886053\nDistance à parcourir 0.9855678939493752\n--------------\n"
     ]
    },
    {
     "output_type": "execute_result",
     "data": {
      "text/plain": [
       "True"
      ]
     },
     "metadata": {},
     "execution_count": 95
    }
   ],
   "source": [
    "MoveUsingPath(room, dog, path)"
   ]
  },
  {
   "cell_type": "code",
   "execution_count": 89,
   "metadata": {},
   "outputs": [
    {
     "output_type": "execute_result",
     "data": {
      "text/plain": [
       "101"
      ]
     },
     "metadata": {},
     "execution_count": 89
    }
   ],
   "source": [
    "len(path)"
   ]
  },
  {
   "cell_type": "code",
   "execution_count": null,
   "id": "fewer-beauty",
   "metadata": {},
   "outputs": [],
   "source": [
    "# POURQUOI ????\n",
    "# dog.human() # Ce que ça fait ? Nécessaire pour le plotrgb, mais fait apparaitre un humain qui se balade partout ?\n",
    "dog.plotmap()\n",
    "dog.plotlidar()\n",
    "dog.plotRGB()\n",
    "dog.plotdepth()\n",
    "human.x, human.y = 10,18"
   ]
  },
  {
   "cell_type": "code",
   "execution_count": null,
   "id": "gentle-ratio",
   "metadata": {},
   "outputs": [],
   "source": [
    "from scipy import signal\n",
    "\n",
    "filter_arr = np.array([[0,1,0],[1,1,1],[0,1,0]])\n",
    "\n",
    "counts = scipy.signal.convolve2d(dftest, filter_arr, mode='same')\n",
    "counts"
   ]
  },
  {
   "cell_type": "code",
   "execution_count": null,
   "metadata": {},
   "outputs": [],
   "source": [
    "dftest.to_csv(\"maps/mapnorm2.csv\",sep=';', header=False, index=False)"
   ]
  },
  {
   "cell_type": "code",
   "execution_count": null,
   "metadata": {},
   "outputs": [],
   "source": []
  }
 ],
 "metadata": {
  "kernelspec": {
   "name": "python392jvsc74a57bd0018319cfe0d9c9bb1b6d8d8fe6a835be7a17e62a2283437db36800ff6e963aba",
   "display_name": "Python 3.9.2 64-bit"
  },
  "language_info": {
   "codemirror_mode": {
    "name": "ipython",
    "version": 3
   },
   "file_extension": ".py",
   "mimetype": "text/x-python",
   "name": "python",
   "nbconvert_exporter": "python",
   "pygments_lexer": "ipython3",
   "version": "3.9.2"
  }
 },
 "nbformat": 4,
 "nbformat_minor": 5
}