{
 "cells": [
  {
   "cell_type": "code",
   "execution_count": 1,
   "id": "legendary-tactics",
   "metadata": {},
   "outputs": [],
   "source": [
    "import pandas as pd\n",
    "import matplotlib.pyplot as plt\n",
    "from matplotlib import animation\n",
    "\n",
    "# importe le simulateur depuis simulateur.py\n",
    "from simulateur import *\n",
    "\n",
    "# importe l'algorithme RRT*\n",
    "from PythonRobotics.PathPlanning.RRTStar.rrt_star import RRTStar"
   ]
  },
  {
   "cell_type": "markdown",
   "id": "possible-shooting",
   "metadata": {},
   "source": [
    "### Préparer la carte"
   ]
  },
  {
   "cell_type": "code",
   "execution_count": 23,
   "id": "authorized-reduction",
   "metadata": {
    "scrolled": true
   },
   "outputs": [],
   "source": [
    "# Cell Dimension: 633, 1149\n",
    "\n",
    "# importing the map and droping the last empty column\n",
    "df = pd.read_csv('maps/RDCmod3.txt', header=None)\n",
    "df = df.drop(columns=[633])\n",
    "\n",
    "# droping columns and rows with 0\n",
    "df = df.loc[:, (df != 0).any(axis=0)]\n",
    "df = df.loc[(df!=0).any(axis=1)]\n",
    "\n",
    "#normalizing the dataframe\n",
    "df_norm = -df.copy()\n",
    "for column in df_norm.columns:\n",
    "    df_norm[column] = df_norm[column] / df_norm[column].abs().max()\n",
    "    \n",
    "#Rounding the dataframe\n",
    "\n",
    "#tester en gardant le vide dans la carte, soulage le simulateur ?\n",
    "df_rounded = df_norm.round(0).astype(int)\n",
    "df_rounded = df_rounded + 1\n",
    "# df_rounded.replace(2,1, inplace=True)\n",
    "\n",
    "#Exporting the final map\n",
    "df_rounded.to_csv(\"maps/mapnorm.csv\",sep=';', header=False, index=False)"
   ]
  },
  {
   "cell_type": "markdown",
   "id": "wireless-reading",
   "metadata": {},
   "source": [
    "### Simulation"
   ]
  },
  {
   "cell_type": "code",
   "execution_count": 3,
   "id": "checked-transmission",
   "metadata": {},
   "outputs": [],
   "source": [
    "#Création de la pièce et du chien\n",
    "room = DogRoom('maps/mapnorm.csv')\n",
    "# room = DogRoom('maps/map01.csv')\n",
    "dog = Dog(room)\n",
    "# human = Human(room)"
   ]
  },
  {
   "cell_type": "code",
   "execution_count": 4,
   "metadata": {},
   "outputs": [
    {
     "output_type": "stream",
     "name": "stdout",
     "text": [
      "Using matplotlib backend: TkAgg\n"
     ]
    }
   ],
   "source": [
    "%matplotlib\n",
    "showmap()"
   ]
  },
  {
   "cell_type": "code",
   "execution_count": 5,
   "id": "enabling-davis",
   "metadata": {
    "scrolled": false
   },
   "outputs": [],
   "source": [
    "obstacle = []\n",
    "radius = 1.2\n",
    "for i in range(len(room.imgdf)):\n",
    "    for j in range(len(room.imgdf.iloc[i])):\n",
    "        if room.imgdf.iloc[i][j]==1:\n",
    "            obstacle.append((j+0.5,i+0.5,radius))"
   ]
  },
  {
   "cell_type": "code",
   "execution_count": 6,
   "id": "plastic-cattle",
   "metadata": {
    "scrolled": false
   },
   "outputs": [],
   "source": [
    "show_animation = True\n",
    "obstacle_list = obstacle\n",
    "# goal = [12,5]\n",
    "goal = [140, 340]\n",
    "# generatepath(goal, obstacle)\n"
   ]
  },
  {
   "cell_type": "code",
   "execution_count": 7,
   "id": "parallel-occurrence",
   "metadata": {
    "scrolled": true
   },
   "outputs": [
    {
     "output_type": "stream",
     "name": "stdout",
     "text": [
      "Iter: 0 , number of nodes: 1\n",
      "Iter: 1 , number of nodes: 2\n",
      "Iter: 2 , number of nodes: 3\n",
      "Iter: 3 , number of nodes: 4\n",
      "Iter: 4 , number of nodes: 5\n",
      "Iter: 5 , number of nodes: 6\n",
      "Iter: 6 , number of nodes: 7\n",
      "Iter: 7 , number of nodes: 8\n",
      "Iter: 8 , number of nodes: 9\n",
      "Iter: 9 , number of nodes: 10\n",
      "Iter: 10 , number of nodes: 11\n",
      "Iter: 11 , number of nodes: 12\n",
      "Iter: 12 , number of nodes: 13\n",
      "Iter: 13 , number of nodes: 14\n",
      "Iter: 14 , number of nodes: 15\n",
      "Iter: 15 , number of nodes: 16\n",
      "Iter: 16 , number of nodes: 17\n",
      "Iter: 17 , number of nodes: 18\n",
      "Iter: 18 , number of nodes: 19\n",
      "Iter: 19 , number of nodes: 20\n",
      "Iter: 20 , number of nodes: 21\n",
      "Iter: 21 , number of nodes: 22\n",
      "Iter: 22 , number of nodes: 23\n",
      "Iter: 23 , number of nodes: 24\n",
      "Iter: 24 , number of nodes: 25\n",
      "Iter: 25 , number of nodes: 26\n",
      "Iter: 26 , number of nodes: 27\n",
      "Iter: 27 , number of nodes: 28\n",
      "Iter: 28 , number of nodes: 29\n",
      "Iter: 29 , number of nodes: 30\n",
      "Iter: 30 , number of nodes: 31\n",
      "Iter: 31 , number of nodes: 32\n",
      "Iter: 32 , number of nodes: 33\n",
      "Iter: 33 , number of nodes: 34\n",
      "Iter: 34 , number of nodes: 35\n",
      "Iter: 35 , number of nodes: 36\n",
      "Iter: 36 , number of nodes: 37\n",
      "Iter: 37 , number of nodes: 38\n",
      "Iter: 38 , number of nodes: 39\n",
      "Iter: 39 , number of nodes: 40\n",
      "Iter: 40 , number of nodes: 41\n",
      "Iter: 41 , number of nodes: 42\n",
      "Iter: 42 , number of nodes: 43\n",
      "Iter: 43 , number of nodes: 44\n",
      "Iter: 44 , number of nodes: 45\n",
      "Iter: 45 , number of nodes: 46\n",
      "Iter: 46 , number of nodes: 47\n",
      "Iter: 47 , number of nodes: 48\n",
      "Iter: 48 , number of nodes: 49\n",
      "Iter: 49 , number of nodes: 50\n",
      "Iter: 50 , number of nodes: 51\n",
      "Iter: 51 , number of nodes: 52\n",
      "Iter: 52 , number of nodes: 53\n",
      "Iter: 53 , number of nodes: 54\n",
      "Iter: 54 , number of nodes: 55\n",
      "Iter: 55 , number of nodes: 56\n",
      "Iter: 56 , number of nodes: 57\n",
      "Iter: 57 , number of nodes: 58\n",
      "Iter: 58 , number of nodes: 59\n",
      "Iter: 59 , number of nodes: 60\n",
      "Iter: 60 , number of nodes: 61\n",
      "Iter: 61 , number of nodes: 62\n",
      "Iter: 62 , number of nodes: 63\n",
      "Iter: 63 , number of nodes: 64\n",
      "Iter: 64 , number of nodes: 65\n",
      "Iter: 65 , number of nodes: 66\n",
      "Iter: 66 , number of nodes: 67\n",
      "Iter: 67 , number of nodes: 68\n",
      "Iter: 68 , number of nodes: 69\n",
      "Iter: 69 , number of nodes: 70\n"
     ]
    },
    {
     "output_type": "error",
     "ename": "KeyboardInterrupt",
     "evalue": "",
     "traceback": [
      "\u001b[1;31m---------------------------------------------------------------------------\u001b[0m",
      "\u001b[1;31mKeyboardInterrupt\u001b[0m                         Traceback (most recent call last)",
      "\u001b[1;32m<ipython-input-7-8bc318b94169>\u001b[0m in \u001b[0;36m<module>\u001b[1;34m\u001b[0m\n\u001b[1;32m----> 1\u001b[1;33m \u001b[0mpath\u001b[0m \u001b[1;33m=\u001b[0m \u001b[0mgeneratepath\u001b[0m\u001b[1;33m(\u001b[0m\u001b[0mgoal\u001b[0m\u001b[1;33m,\u001b[0m \u001b[0mobstacle\u001b[0m\u001b[1;33m)\u001b[0m\u001b[1;33m\u001b[0m\u001b[1;33m\u001b[0m\u001b[0m\n\u001b[0m\u001b[0;32m      2\u001b[0m \u001b[0mMoveUsingPath\u001b[0m\u001b[1;33m(\u001b[0m\u001b[0mdog\u001b[0m\u001b[1;33m,\u001b[0m \u001b[0mpath\u001b[0m\u001b[1;33m)\u001b[0m\u001b[1;33m\u001b[0m\u001b[1;33m\u001b[0m\u001b[0m\n",
      "\u001b[1;32m<ipython-input-2-4c2e51d2516f>\u001b[0m in \u001b[0;36mgeneratepath\u001b[1;34m(goal, obstacle)\u001b[0m\n\u001b[0;32m     42\u001b[0m         \u001b[0mmax_iter\u001b[0m\u001b[1;33m=\u001b[0m\u001b[1;36m1000\u001b[0m\u001b[1;33m,\u001b[0m\u001b[1;33m\u001b[0m\u001b[1;33m\u001b[0m\u001b[0m\n\u001b[0;32m     43\u001b[0m         search_until_max_iter=True)\n\u001b[1;32m---> 44\u001b[1;33m     \u001b[0mpath\u001b[0m \u001b[1;33m=\u001b[0m \u001b[0mrrt_star\u001b[0m\u001b[1;33m.\u001b[0m\u001b[0mplanning\u001b[0m\u001b[1;33m(\u001b[0m\u001b[0manimation\u001b[0m\u001b[1;33m=\u001b[0m\u001b[1;32mFalse\u001b[0m\u001b[1;33m)\u001b[0m\u001b[1;33m\u001b[0m\u001b[1;33m\u001b[0m\u001b[0m\n\u001b[0m\u001b[0;32m     45\u001b[0m \u001b[1;33m\u001b[0m\u001b[0m\n\u001b[0;32m     46\u001b[0m     \u001b[1;32mif\u001b[0m \u001b[0mpath\u001b[0m \u001b[1;32mis\u001b[0m \u001b[1;32mNone\u001b[0m\u001b[1;33m:\u001b[0m\u001b[1;33m\u001b[0m\u001b[1;33m\u001b[0m\u001b[0m\n",
      "\u001b[1;32mc:\\Users\\Anouar Elaidi\\Desktop\\Projet info\\dogsimulation\\PythonRobotics\\PathPlanning\\RRTStar\\rrt_star.py\u001b[0m in \u001b[0;36mplanning\u001b[1;34m(self, animation)\u001b[0m\n\u001b[0;32m     83\u001b[0m                     new_node, near_inds)\n\u001b[0;32m     84\u001b[0m                 \u001b[1;32mif\u001b[0m \u001b[0mnode_with_updated_parent\u001b[0m\u001b[1;33m:\u001b[0m\u001b[1;33m\u001b[0m\u001b[1;33m\u001b[0m\u001b[0m\n\u001b[1;32m---> 85\u001b[1;33m                     \u001b[0mself\u001b[0m\u001b[1;33m.\u001b[0m\u001b[0mrewire\u001b[0m\u001b[1;33m(\u001b[0m\u001b[0mnode_with_updated_parent\u001b[0m\u001b[1;33m,\u001b[0m \u001b[0mnear_inds\u001b[0m\u001b[1;33m)\u001b[0m\u001b[1;33m\u001b[0m\u001b[1;33m\u001b[0m\u001b[0m\n\u001b[0m\u001b[0;32m     86\u001b[0m                     \u001b[0mself\u001b[0m\u001b[1;33m.\u001b[0m\u001b[0mnode_list\u001b[0m\u001b[1;33m.\u001b[0m\u001b[0mappend\u001b[0m\u001b[1;33m(\u001b[0m\u001b[0mnode_with_updated_parent\u001b[0m\u001b[1;33m)\u001b[0m\u001b[1;33m\u001b[0m\u001b[1;33m\u001b[0m\u001b[0m\n\u001b[0;32m     87\u001b[0m                 \u001b[1;32melse\u001b[0m\u001b[1;33m:\u001b[0m\u001b[1;33m\u001b[0m\u001b[1;33m\u001b[0m\u001b[0m\n",
      "\u001b[1;32mc:\\Users\\Anouar Elaidi\\Desktop\\Projet info\\dogsimulation\\PythonRobotics\\PathPlanning\\RRTStar\\rrt_star.py\u001b[0m in \u001b[0;36mrewire\u001b[1;34m(self, new_node, near_inds)\u001b[0m\n\u001b[0;32m    220\u001b[0m             \u001b[0medge_node\u001b[0m\u001b[1;33m.\u001b[0m\u001b[0mcost\u001b[0m \u001b[1;33m=\u001b[0m \u001b[0mself\u001b[0m\u001b[1;33m.\u001b[0m\u001b[0mcalc_new_cost\u001b[0m\u001b[1;33m(\u001b[0m\u001b[0mnew_node\u001b[0m\u001b[1;33m,\u001b[0m \u001b[0mnear_node\u001b[0m\u001b[1;33m)\u001b[0m\u001b[1;33m\u001b[0m\u001b[1;33m\u001b[0m\u001b[0m\n\u001b[0;32m    221\u001b[0m \u001b[1;33m\u001b[0m\u001b[0m\n\u001b[1;32m--> 222\u001b[1;33m             \u001b[0mno_collision\u001b[0m \u001b[1;33m=\u001b[0m \u001b[0mself\u001b[0m\u001b[1;33m.\u001b[0m\u001b[0mcheck_collision\u001b[0m\u001b[1;33m(\u001b[0m\u001b[0medge_node\u001b[0m\u001b[1;33m,\u001b[0m \u001b[0mself\u001b[0m\u001b[1;33m.\u001b[0m\u001b[0mobstacle_list\u001b[0m\u001b[1;33m)\u001b[0m\u001b[1;33m\u001b[0m\u001b[1;33m\u001b[0m\u001b[0m\n\u001b[0m\u001b[0;32m    223\u001b[0m             \u001b[0mimproved_cost\u001b[0m \u001b[1;33m=\u001b[0m \u001b[0mnear_node\u001b[0m\u001b[1;33m.\u001b[0m\u001b[0mcost\u001b[0m \u001b[1;33m>\u001b[0m \u001b[0medge_node\u001b[0m\u001b[1;33m.\u001b[0m\u001b[0mcost\u001b[0m\u001b[1;33m\u001b[0m\u001b[1;33m\u001b[0m\u001b[0m\n\u001b[0;32m    224\u001b[0m \u001b[1;33m\u001b[0m\u001b[0m\n",
      "\u001b[1;32mc:\\Users\\Anouar Elaidi\\Desktop\\Projet info\\dogsimulation\\PythonRobotics\\PathPlanning\\RRTStar/../RRT\\rrt.py\u001b[0m in \u001b[0;36mcheck_collision\u001b[1;34m(node, obstacleList)\u001b[0m\n\u001b[0;32m    196\u001b[0m             \u001b[0mdx_list\u001b[0m \u001b[1;33m=\u001b[0m \u001b[1;33m[\u001b[0m\u001b[0mox\u001b[0m \u001b[1;33m-\u001b[0m \u001b[0mx\u001b[0m \u001b[1;32mfor\u001b[0m \u001b[0mx\u001b[0m \u001b[1;32min\u001b[0m \u001b[0mnode\u001b[0m\u001b[1;33m.\u001b[0m\u001b[0mpath_x\u001b[0m\u001b[1;33m]\u001b[0m\u001b[1;33m\u001b[0m\u001b[1;33m\u001b[0m\u001b[0m\n\u001b[0;32m    197\u001b[0m             \u001b[0mdy_list\u001b[0m \u001b[1;33m=\u001b[0m \u001b[1;33m[\u001b[0m\u001b[0moy\u001b[0m \u001b[1;33m-\u001b[0m \u001b[0my\u001b[0m \u001b[1;32mfor\u001b[0m \u001b[0my\u001b[0m \u001b[1;32min\u001b[0m \u001b[0mnode\u001b[0m\u001b[1;33m.\u001b[0m\u001b[0mpath_y\u001b[0m\u001b[1;33m]\u001b[0m\u001b[1;33m\u001b[0m\u001b[1;33m\u001b[0m\u001b[0m\n\u001b[1;32m--> 198\u001b[1;33m             \u001b[0md_list\u001b[0m \u001b[1;33m=\u001b[0m \u001b[1;33m[\u001b[0m\u001b[0mdx\u001b[0m \u001b[1;33m*\u001b[0m \u001b[0mdx\u001b[0m \u001b[1;33m+\u001b[0m \u001b[0mdy\u001b[0m \u001b[1;33m*\u001b[0m \u001b[0mdy\u001b[0m \u001b[1;32mfor\u001b[0m \u001b[1;33m(\u001b[0m\u001b[0mdx\u001b[0m\u001b[1;33m,\u001b[0m \u001b[0mdy\u001b[0m\u001b[1;33m)\u001b[0m \u001b[1;32min\u001b[0m \u001b[0mzip\u001b[0m\u001b[1;33m(\u001b[0m\u001b[0mdx_list\u001b[0m\u001b[1;33m,\u001b[0m \u001b[0mdy_list\u001b[0m\u001b[1;33m)\u001b[0m\u001b[1;33m]\u001b[0m\u001b[1;33m\u001b[0m\u001b[1;33m\u001b[0m\u001b[0m\n\u001b[0m\u001b[0;32m    199\u001b[0m \u001b[1;33m\u001b[0m\u001b[0m\n\u001b[0;32m    200\u001b[0m             \u001b[1;32mif\u001b[0m \u001b[0mmin\u001b[0m\u001b[1;33m(\u001b[0m\u001b[0md_list\u001b[0m\u001b[1;33m)\u001b[0m \u001b[1;33m<=\u001b[0m \u001b[0msize\u001b[0m\u001b[1;33m**\u001b[0m\u001b[1;36m2\u001b[0m\u001b[1;33m:\u001b[0m\u001b[1;33m\u001b[0m\u001b[1;33m\u001b[0m\u001b[0m\n",
      "\u001b[1;31mKeyboardInterrupt\u001b[0m: "
     ]
    }
   ],
   "source": [
    "path = generatepath(goal, obstacle)\n",
    "MoveUsingPath(dog, path)"
   ]
  },
  {
   "cell_type": "code",
   "execution_count": 87,
   "id": "fewer-beauty",
   "metadata": {},
   "outputs": [],
   "source": [
    "# POURQUOI ????\n",
    "dog.human()\n",
    "dog.plotlidar()\n",
    "dog.plotRGB()\n",
    "dog.plotdepth()"
   ]
  },
  {
   "cell_type": "code",
   "execution_count": 2,
   "id": "undefined-logistics",
   "metadata": {
    "scrolled": false
   },
   "outputs": [],
   "source": [
    "#plotting the map with imshow\n",
    "def showmap():\n",
    "    dog_x, dog_y = dog.x, dog.y\n",
    "    height, width = room.imgdf.shape\n",
    "    # human_x, human_y = human.x, human.y\n",
    "\n",
    "    fig,ax = plt.subplots(1,figsize=(7,7))\n",
    "    fig = plt.plot(dog_x, dog_y, 's')\n",
    "    # fig = plt.plot(human_x, human_y, 'x')\n",
    "    \n",
    "    ax.imshow(room.imgdf, origin='lower', interpolation='none', extent=(0, width, 0, height))\n",
    "    plt.gca().invert_yaxis()\n",
    "    plt.show()\n",
    "    \n",
    "# Draw final path\n",
    "def showpath(room, dog, obstacle, path): \n",
    "    %matplotlib inline\n",
    "    fig,ax = plt.subplots(1,figsize=(7,7))\n",
    "    \n",
    "    width, height = room.largeur, room.longueur\n",
    "\n",
    "    plt.plot([x for (x, y) in path], [y for (x, y) in path], 'r--') #Plotting the path\n",
    "    plt.plot([x for (x, y) in path], [y for (x, y) in path], 'o', color='green') #Plotting the path\n",
    "    plt.plot(dog.x, dog.y, 'o', color='blue')\n",
    "    plt.plot(goal[0],goal[1],'x', color='orange')\n",
    "\n",
    "    for (x, y, radius) in obstacle:\n",
    "        cir = plt.Circle((x, y), radius, color='r', alpha=0.5, fill=True)\n",
    "        ax.add_patch(cir)\n",
    "    ax.imshow(room.imgdf, origin='lower', interpolation='none', extent=(0, width, 0, height))\n",
    "    plt.gca().invert_yaxis()\n",
    "    plt.show()\n",
    "\n",
    "def generatepath(goal, obstacle):\n",
    "    # Set Initial parameters\n",
    "    rrt_star = RRTStar(\n",
    "        start=[dog.x, dog.y],\n",
    "        goal=goal,\n",
    "        rand_area=[-2, 15],\n",
    "        obstacle_list = obstacle,\n",
    "        expand_dis=1,\n",
    "        max_iter=1000,\n",
    "        search_until_max_iter=True)\n",
    "    path = rrt_star.planning(animation=False)\n",
    "\n",
    "    if path is None:\n",
    "        print(\"Cannot find path\")\n",
    "    else:\n",
    "        print(\"found path!!\")\n",
    "        showpath(room, dog, obstacle, path)\n",
    "    return path\n",
    "\n",
    "def MoveToPoint(dog, x, y):\n",
    "    \n",
    "#     unit_vector_x = [1,0]\n",
    "  \n",
    "    #info sur le chien\n",
    "    pos = np.array([dog.x, dog.y])\n",
    "    curr_angle = dog.rot\n",
    "\n",
    "    #destination\n",
    "    goal = np.array([x,y])\n",
    "    mov_vector = goal - pos\n",
    "    \n",
    "    dist = np.linalg.norm(mov_vector)\n",
    "\n",
    "    dot = np.dot(mov_vector, [1,0])\n",
    "    det = np.linalg.det(np.array([mov_vector, [1,0]])) # Vecteur x unitaire\n",
    "    angle = np.degrees(np.arctan2(det, dot)) #problème d'angle hors intervalle parfois\n",
    "    rot = angle - curr_angle\n",
    "    \n",
    "    print(\"Current X: {}, Current Y: {}\".format(pos[0], pos[1]))\n",
    "    print(\"Goal X: {}, Goal Y: {}\".format(x,y))\n",
    "    print(\"Angle absolu {}\".format(angle))\n",
    "    print(\"Angle relatif {}\".format(rot))\n",
    "    print(\"Distance à parcourir {}\".format(dist))\n",
    "    print(\"--------------\")\n",
    "\n",
    "    #fonction du simulateur\n",
    "    dog.rotate(rot)\n",
    "    dog.forward(dist)\n",
    "    \n",
    "    \n",
    "#Using the path to move the dog\n",
    "def MoveUsingPath(dog, path):\n",
    "    keypoints = path.copy()\n",
    "    keypoints.reverse()\n",
    "\n",
    "    for x,y in keypoints[1:]:\n",
    "        MoveToPoint(dog, x, y)\n",
    "    showmap()\n",
    "    return True"
   ]
  },
  {
   "cell_type": "code",
   "execution_count": null,
   "metadata": {},
   "outputs": [],
   "source": []
  }
 ],
 "metadata": {
  "kernelspec": {
   "name": "python392jvsc74a57bd0018319cfe0d9c9bb1b6d8d8fe6a835be7a17e62a2283437db36800ff6e963aba",
   "display_name": "Python 3.9.2 64-bit"
  },
  "language_info": {
   "codemirror_mode": {
    "name": "ipython",
    "version": 3
   },
   "file_extension": ".py",
   "mimetype": "text/x-python",
   "name": "python",
   "nbconvert_exporter": "python",
   "pygments_lexer": "ipython3",
   "version": "3.9.2"
  }
 },
 "nbformat": 4,
 "nbformat_minor": 5
}